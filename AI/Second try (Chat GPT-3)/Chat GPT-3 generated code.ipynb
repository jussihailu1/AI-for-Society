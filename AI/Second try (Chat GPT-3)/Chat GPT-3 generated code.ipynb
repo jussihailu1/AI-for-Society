{
 "cells": [
  {
   "attachments": {},
   "cell_type": "markdown",
   "metadata": {},
   "source": [
    "# Predict receipt price with generated code\n",
    "\n",
    "For the second try, I am using Chat GPT-3 to generate code that will create the model. "
   ]
  },
  {
   "cell_type": "code",
   "execution_count": 1,
   "metadata": {},
   "outputs": [],
   "source": [
    "# Import necessary libraries\n",
    "import pandas as pd\n",
    "from sklearn.linear_model import LinearRegression\n",
    "from sklearn.model_selection import train_test_split\n",
    "import numpy as np\n",
    "import matplotlib.pyplot as plt\n",
    "import seaborn as sns\n",
    "import pandas as pd"
   ]
  },
  {
   "cell_type": "code",
   "execution_count": 2,
   "metadata": {},
   "outputs": [],
   "source": [
    "# Load the data into a Pandas DataFrame\n",
    "df = pd.read_csv(\"Receipts August 2022 - V6.csv\")\n",
    "df['date'] = pd.to_datetime(df['date'], format='%d-%m-%Y')\n",
    "df['time of exit'] = pd.to_datetime(df['time of exit'], format='%H:%M:%S')\n",
    "\n",
    "# Adding all the columns from third EDA\n",
    "df['dow'] = df['date'].dt.day_of_week\n",
    "df['is w'] = df['dow'] > 4\n",
    "df['is nem'] = df['dow'].apply(lambda dow: 3 < dow < 6)\n",
    "df['toe hour'] = df['time of exit'].dt.hour\n",
    "df['toe minute'] = df['time of exit'].dt.minute\n",
    "df['toe as n'] = df['toe hour'] + df['toe minute'] / 60\n",
    "df = df.drop(columns=['id'])\n",
    "\n",
    "# Removing the anomalies\n",
    "df = df[df['toe as n'] > 15]\n",
    "df = df[df['receipt price'] < 200]"
   ]
  },
  {
   "attachments": {},
   "cell_type": "markdown",
   "metadata": {},
   "source": [
    "I chose to predict `receipt price`. To predict this, I chose the highest numbers on the correlation matrix which are `toe as n` (0.31) and `is nem` (0.11). But `dow` will be used because it kind of includes `is nem`."
   ]
  },
  {
   "cell_type": "code",
   "execution_count": 3,
   "metadata": {},
   "outputs": [
    {
     "name": "stdout",
     "output_type": "stream",
     "text": [
      "0.06079737023350518\n"
     ]
    }
   ],
   "source": [
    "# Extract the relevant columns from the DataFrame\n",
    "X = df[['toe as n', 'dow']]\n",
    "y = df['receipt price']\n",
    "\n",
    "# Split the data into training and testing sets\n",
    "X_train, X_test, y_train, y_test = train_test_split(X, y, test_size=0.1)\n",
    "\n",
    "# Train the linear regression model on the training data\n",
    "model = LinearRegression()\n",
    "model.fit(X_train, y_train)\n",
    "\n",
    "# Evaluate the model's performance on the testing data\n",
    "print(model.score(X_test, y_test))"
   ]
  },
  {
   "attachments": {},
   "cell_type": "markdown",
   "metadata": {},
   "source": [
    "The printed result has a lot of variation. I will modify this generated script by putting it in a for loop to get an average model score."
   ]
  },
  {
   "cell_type": "code",
   "execution_count": 4,
   "metadata": {},
   "outputs": [
    {
     "name": "stdout",
     "output_type": "stream",
     "text": [
      "average model score from 1000 iterations:\n",
      "-0.006964530091449597\n"
     ]
    }
   ],
   "source": [
    "iterations = 1000\n",
    "model_scores = []\n",
    "models = []\n",
    "\n",
    "for x in range(1, iterations + 1):\n",
    "  # Split the data into training and testing sets\n",
    "    X_train, X_test, y_train, y_test = train_test_split(X, y, test_size=0.1)\n",
    "\n",
    "    # Train the linear regression model on the training data\n",
    "    model = LinearRegression()\n",
    "    model.fit(X_train, y_train)\n",
    "\n",
    "    # Evaluate the model's performance on the testing data\n",
    "    model_scores.append([x, model.score(X_test, y_test)])\n",
    "    models.append(model)\n",
    "\n",
    "average_model_score = np.average(model_scores, axis=0)[1]\n",
    "print(f\"average model score from {iterations} iterations:\")\n",
    "print(average_model_score)"
   ]
  },
  {
   "attachments": {},
   "cell_type": "markdown",
   "metadata": {},
   "source": [
    "A negative score means that the model is useless. But I want to see the variation in the model scores so here are some plots and more information."
   ]
  },
  {
   "cell_type": "code",
   "execution_count": 5,
   "metadata": {},
   "outputs": [],
   "source": [
    "# model_scores.sort(key=lambda x:x[1])\n",
    "npArr = np.array(model_scores)\n",
    "x = npArr[:, 1]"
   ]
  },
  {
   "cell_type": "code",
   "execution_count": 6,
   "metadata": {},
   "outputs": [
    {
     "data": {
      "text/html": [
       "<div>\n",
       "<style scoped>\n",
       "    .dataframe tbody tr th:only-of-type {\n",
       "        vertical-align: middle;\n",
       "    }\n",
       "\n",
       "    .dataframe tbody tr th {\n",
       "        vertical-align: top;\n",
       "    }\n",
       "\n",
       "    .dataframe thead th {\n",
       "        text-align: right;\n",
       "    }\n",
       "</style>\n",
       "<table border=\"1\" class=\"dataframe\">\n",
       "  <thead>\n",
       "    <tr style=\"text-align: right;\">\n",
       "      <th></th>\n",
       "      <th>count</th>\n",
       "      <th>mean</th>\n",
       "      <th>std</th>\n",
       "      <th>min</th>\n",
       "      <th>25%</th>\n",
       "      <th>50%</th>\n",
       "      <th>75%</th>\n",
       "      <th>max</th>\n",
       "    </tr>\n",
       "  </thead>\n",
       "  <tbody>\n",
       "    <tr>\n",
       "      <th>x</th>\n",
       "      <td>1000.0</td>\n",
       "      <td>-0.006965</td>\n",
       "      <td>0.206808</td>\n",
       "      <td>-1.88144</td>\n",
       "      <td>-0.102899</td>\n",
       "      <td>0.03012</td>\n",
       "      <td>0.128699</td>\n",
       "      <td>0.467264</td>\n",
       "    </tr>\n",
       "  </tbody>\n",
       "</table>\n",
       "</div>"
      ],
      "text/plain": [
       "    count      mean       std      min       25%      50%       75%       max\n",
       "x  1000.0 -0.006965  0.206808 -1.88144 -0.102899  0.03012  0.128699  0.467264"
      ]
     },
     "execution_count": 6,
     "metadata": {},
     "output_type": "execute_result"
    }
   ],
   "source": [
    "dfX = pd.DataFrame()\n",
    "dfX['x'] = x\n",
    "\n",
    "dfX.describe().transpose()"
   ]
  },
  {
   "cell_type": "code",
   "execution_count": 7,
   "metadata": {},
   "outputs": [
    {
     "data": {
      "text/plain": [
       "(array([  1.,   0.,   1.,   3.,   2.,  20.,  78., 316., 524.,  55.]),\n",
       " array([-1.88144004, -1.64656967, -1.4116993 , -1.17682893, -0.94195857,\n",
       "        -0.7070882 , -0.47221783, -0.23734746, -0.00247709,  0.23239327,\n",
       "         0.46726364]),\n",
       " <BarContainer object of 10 artists>)"
      ]
     },
     "execution_count": 7,
     "metadata": {},
     "output_type": "execute_result"
    },
    {
     "data": {
      "image/png": "[encoded data removed]",
      "text/plain": [
       "<Figure size 640x480 with 1 Axes>"
      ]
     },
     "metadata": {},
     "output_type": "display_data"
    }
   ],
   "source": [
    "plt.hist(x)"
   ]
  },
  {
   "cell_type": "code",
   "execution_count": 8,
   "metadata": {},
   "outputs": [
    {
     "data": {
      "text/plain": [
       "<AxesSubplot: ylabel='Density'>"
      ]
     },
     "execution_count": 8,
     "metadata": {},
     "output_type": "execute_result"
    },
    {
     "data": {
      "image/png": "[encoded data removed]",
      "text/plain": [
       "<Figure size 640x480 with 1 Axes>"
      ]
     },
     "metadata": {},
     "output_type": "display_data"
    }
   ],
   "source": [
    "sns.kdeplot(x)"
   ]
  },
  {
   "attachments": {},
   "cell_type": "markdown",
   "metadata": {},
   "source": [
    "To force at least some sort of result, I will pick the strongest model."
   ]
  },
  {
   "cell_type": "code",
   "execution_count": 9,
   "metadata": {},
   "outputs": [
    {
     "name": "stdout",
     "output_type": "stream",
     "text": [
      "0.4672636426816491\n"
     ]
    }
   ],
   "source": [
    "highest_model_score = np.amax(x)\n",
    "index = np.where(x == highest_model_score)[0][0]\n",
    "strongest_model = models[index]\n",
    "\n",
    "print(highest_model_score)"
   ]
  },
  {
   "cell_type": "code",
   "execution_count": 10,
   "metadata": {},
   "outputs": [
    {
     "name": "stdout",
     "output_type": "stream",
     "text": [
      "Predicted receipt price: €67.81\n"
     ]
    },
    {
     "name": "stderr",
     "output_type": "stream",
     "text": [
      "c:\\Users\\Jussi\\AppData\\Local\\Programs\\Python\\Python310\\lib\\site-packages\\sklearn\\base.py:409: UserWarning: X does not have valid feature names, but LinearRegression was fitted with feature names\n",
      "  warnings.warn(\n"
     ]
    }
   ],
   "source": [
    "# Use the strongest model to make predictions on new data\n",
    "new_toe_as_n = 20.5\n",
    "new_dow = 1 # (Tuesday)\n",
    "new_data = [[new_toe_as_n, new_dow]]\n",
    "result = model.predict(new_data)[0]\n",
    "print(f\"Predicted receipt price: €{result:.2f}\")"
   ]
  },
  {
   "attachments": {},
   "cell_type": "markdown",
   "metadata": {},
   "source": [
    "To validate this result, it will be compared against a chart."
   ]
  },
  {
   "cell_type": "code",
   "execution_count": 11,
   "metadata": {},
   "outputs": [
    {
     "name": "stderr",
     "output_type": "stream",
     "text": [
      "c:\\Users\\Jussi\\AppData\\Local\\Programs\\Python\\Python310\\lib\\site-packages\\pandas\\plotting\\_matplotlib\\core.py:1114: UserWarning: No data for colormapping provided via 'c'. Parameters 'cmap' will be ignored\n",
      "  scatter = ax.scatter(\n"
     ]
    },
    {
     "data": {
      "text/plain": [
       "<matplotlib.collections.PathCollection at 0x131e42749a0>"
      ]
     },
     "execution_count": 11,
     "metadata": {},
     "output_type": "execute_result"
    },
    {
     "data": {
      "image/png": "[encoded data removed]",
      "text/plain": [
       "<Figure size 640x480 with 1 Axes>"
      ]
     },
     "metadata": {},
     "output_type": "display_data"
    }
   ],
   "source": [
    "# Filtering the df for only Tuesday for a fair comparison\n",
    "new_df = df[df['dow'] == 1]\n",
    "new_df.plot.scatter(x='toe as n', y='receipt price')\n",
    "\n",
    "plt.scatter(x=[new_toe_as_n], y=[result], c='red')"
   ]
  },
  {
   "attachments": {},
   "cell_type": "markdown",
   "metadata": {},
   "source": [
    "Lets add more red dots"
   ]
  },
  {
   "cell_type": "code",
   "execution_count": 17,
   "metadata": {},
   "outputs": [
    {
     "name": "stderr",
     "output_type": "stream",
     "text": [
      "c:\\Users\\Jussi\\AppData\\Local\\Programs\\Python\\Python310\\lib\\site-packages\\sklearn\\base.py:409: UserWarning: X does not have valid feature names, but LinearRegression was fitted with feature names\n",
      "  warnings.warn(\n",
      "c:\\Users\\Jussi\\AppData\\Local\\Programs\\Python\\Python310\\lib\\site-packages\\sklearn\\base.py:409: UserWarning: X does not have valid feature names, but LinearRegression was fitted with feature names\n",
      "  warnings.warn(\n",
      "c:\\Users\\Jussi\\AppData\\Local\\Programs\\Python\\Python310\\lib\\site-packages\\sklearn\\base.py:409: UserWarning: X does not have valid feature names, but LinearRegression was fitted with feature names\n",
      "  warnings.warn(\n",
      "c:\\Users\\Jussi\\AppData\\Local\\Programs\\Python\\Python310\\lib\\site-packages\\sklearn\\base.py:409: UserWarning: X does not have valid feature names, but LinearRegression was fitted with feature names\n",
      "  warnings.warn(\n",
      "c:\\Users\\Jussi\\AppData\\Local\\Programs\\Python\\Python310\\lib\\site-packages\\sklearn\\base.py:409: UserWarning: X does not have valid feature names, but LinearRegression was fitted with feature names\n",
      "  warnings.warn(\n"
     ]
    }
   ],
   "source": [
    "predictions = []\n",
    "\n",
    "for _new_toe_as_n in range(17, 22):\n",
    "    predicted_receipt_price = model.predict([[_new_toe_as_n, new_dow]])[0]\n",
    "    predictions.append([_new_toe_as_n, predicted_receipt_price])\n",
    "\n",
    "predictions = np.array(predictions)"
   ]
  },
  {
   "cell_type": "code",
   "execution_count": 28,
   "metadata": {},
   "outputs": [
    {
     "name": "stderr",
     "output_type": "stream",
     "text": [
      "c:\\Users\\Jussi\\AppData\\Local\\Programs\\Python\\Python310\\lib\\site-packages\\pandas\\plotting\\_matplotlib\\core.py:1114: UserWarning: No data for colormapping provided via 'c'. Parameters 'cmap' will be ignored\n",
      "  scatter = ax.scatter(\n"
     ]
    },
    {
     "data": {
      "text/plain": [
       "<matplotlib.collections.PathCollection at 0x131e9f59240>"
      ]
     },
     "execution_count": 28,
     "metadata": {},
     "output_type": "execute_result"
    },
    {
     "data": {
      "image/png": "[encoded data removed]",
      "text/plain": [
       "<Figure size 640x480 with 1 Axes>"
      ]
     },
     "metadata": {},
     "output_type": "display_data"
    }
   ],
   "source": [
    "new_df.plot.scatter(x='toe as n', y='receipt price')\n",
    "\n",
    "plt.scatter(x=predictions[:,0], y=predictions[:,1], c='red')"
   ]
  },
  {
   "attachments": {},
   "cell_type": "markdown",
   "metadata": {},
   "source": [
    "# Conclusion\n",
    "\n",
    "The red dots follow the trend of the `receipt price` increasing as `toe as n` increases. This means that I have succesfully created a regression model using partly generated code by Chat GPT-3."
   ]
  }
 ],
 "metadata": {
  "kernelspec": {
   "display_name": "Python 3",
   "language": "python",
   "name": "python3"
  },
  "language_info": {
   "codemirror_mode": {
    "name": "ipython",
    "version": 3
   },
   "file_extension": ".py",
   "mimetype": "text/x-python",
   "name": "python",
   "nbconvert_exporter": "python",
   "pygments_lexer": "ipython3",
   "version": "3.10.5 (tags/v3.10.5:f377153, Jun  6 2022, 16:14:13) [MSC v.1929 64 bit (AMD64)]"
  },
  "orig_nbformat": 4,
  "vscode": {
   "interpreter": {
    "hash": "e8c4d066f18208190a6689fc357952d5940ae499867ce1a42944714a74123565"
   }
  }
 },
 "nbformat": 4,
 "nbformat_minor": 2
}
